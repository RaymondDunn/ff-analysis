{
 "metadata": {
  "language_info": {
   "codemirror_mode": {
    "name": "ipython",
    "version": 3
   },
   "file_extension": ".py",
   "mimetype": "text/x-python",
   "name": "python",
   "nbconvert_exporter": "python",
   "pygments_lexer": "ipython3",
   "version": "3.7.6-final"
  },
  "orig_nbformat": 2,
  "kernelspec": {
   "name": "python3",
   "display_name": "Python 3.7.6 64-bit ('jupyter': conda)",
   "metadata": {
    "interpreter": {
     "hash": "a5a05bcf399151f4cfe7390d951d58b023187265c39044c145c6c5747dccd06f"
    }
   }
  }
 },
 "nbformat": 4,
 "nbformat_minor": 2,
 "cells": [
  {
   "cell_type": "code",
   "execution_count": 8,
   "metadata": {},
   "outputs": [
    {
     "output_type": "stream",
     "name": "stdout",
     "text": [
      "{'gameId': 1, 'id': 83174673, 'members': [{'displayName': 'espn04014086', 'id': '{23752840-5024-4BC3-B528-4050243BC3EE}', 'isLeagueManager': False}, {'displayName': 'YungFly', 'id': '{2A52739B-A4D2-440F-B78D-C1282294B36E}', 'isLeagueManager': False}, {'displayName': 'Ball, call, install', 'id': '{5E1655AA-B7E8-4112-8208-4024E2B806B4}', 'isLeagueManager': False}, {'displayName': 'espn57414091', 'id': '{86F13096-2F1D-44BC-B130-962F1DA4BCEA}', 'isLeagueManager': False}, {'displayName': 'broncoz16', 'id': '{89BABC79-3E89-4484-B7E0-91FE30264A36}', 'isLeagueManager': False}, {'displayName': 'typhe12', 'id': '{8BCE107A-C396-4216-A165-204DCBB7ACED}', 'isLeagueManager': False}, {'displayName': 'ESPNFAN6778113520', 'id': '{9DAF6913-3970-416F-BECB-D0DE77788ADB}', 'isLeagueManager': False}, {'displayName': 'shottysnipesonthepit', 'id': '{9F7C3455-C43D-42A6-9D1A-AEB707CB5F0B}', 'isLeagueManager': False}, {'displayName': 'JackMichaels55', 'id': '{AED6F6FD-B3C1-49EC-9329-C5E971023ED7}', 'isLeagueManager': False}, {'displayName': 'Lvl 69 Bloodelf', 'id': '{E8D2FE27-DB84-4C52-A39C-ACE7188E9114}', 'isLeagueManager': True}], 'scoringPeriodId': 13, 'seasonId': 2020, 'segmentId': 0, 'settings': {'name': 'Bromfield 12.0'}, 'status': {'currentMatchupPeriod': 13, 'isActive': True, 'latestScoringPeriod': 13}, 'teams': [{'abbrev': 'TY$', 'id': 1, 'location': 'Bros Before', 'nickname': 'Younghoes', 'owners': ['{8BCE107A-C396-4216-A165-204DCBB7ACED}']}, {'abbrev': 'WILL', 'id': 2, 'location': 'il', 'nickname': 'Bambino', 'owners': ['{2A52739B-A4D2-440F-B78D-C1282294B36E}']}, {'abbrev': 'DRAC', 'id': 3, 'location': ' .', 'nickname': 'Draculas Army ', 'owners': ['{86F13096-2F1D-44BC-B130-962F1DA4BCEA}']}, {'abbrev': 'DAL', 'id': 4, 'location': 'Dalvin and', 'nickname': 'the chipmunks', 'owners': ['{9F7C3455-C43D-42A6-9D1A-AEB707CB5F0B}']}, {'abbrev': 'G0D', 'id': 5, 'location': \"Noah's\", 'nickname': 'Ark', 'owners': ['{9DAF6913-3970-416F-BECB-D0DE77788ADB}']}, {'abbrev': 'BILL', 'id': 6, 'location': \"Devante's\", 'nickname': 'Atoms', 'owners': ['{E8D2FE27-DB84-4C52-A39C-ACE7188E9114}']}, {'abbrev': 'Meat', 'id': 7, 'location': 'The Meat Down ', 'nickname': 'Beat Downs ', 'owners': ['{AED6F6FD-B3C1-49EC-9329-C5E971023ED7}']}, {'abbrev': 'BLNT', 'id': 8, 'location': \"Blount's\", 'nickname': 'Blunts', 'owners': ['{5E1655AA-B7E8-4112-8208-4024E2B806B4}']}, {'abbrev': 'CJB7', 'id': 9, 'location': 'Hogs', 'nickname': 'DA BEARS', 'owners': ['{23752840-5024-4BC3-B528-4050243BC3EE}']}, {'abbrev': 'DIGG', 'id': 10, 'location': 'Gold', 'nickname': 'Diggers', 'owners': ['{89BABC79-3E89-4484-B7E0-91FE30264A36}']}]}\n"
     ]
    }
   ],
   "source": [
    "# install api interface at https://github.com/cwendt94/ff-espn-api/\n",
    "\n",
    "import requests\n",
    "\n",
    "# get hardcoded cookies from browser\n",
    "\n",
    "\n",
    "# helper function from ff-espn-api\n",
    "def checkRequestStatus(status: int) -> None:\n",
    "    if 500 <= status <= 503:\n",
    "            raise Exception(status)\n",
    "    if status == 401:\n",
    "        raise Exception(\"Access Denied\")\n",
    "\n",
    "    elif status == 404:\n",
    "        raise Exception(\"Invalid League\")\n",
    "\n",
    "    elif status != 200:\n",
    "        raise Exception('Unknown %s Error' % status)\n",
    "\n",
    "\n",
    "year = 2020\n",
    "league_id = 83174673\n",
    "\n",
    "\n",
    "# fetch league. need some data from cookies to fill in here\n",
    "swid = '{9F7C3455-C43D-42A6-9D1A-AEB707CB5F0B}'\n",
    "espn_s2 = 'AEAy3mkAv%2FsnK2YbgEVRFKpOw6%2ByQVeXH5BDBOlzgAiBg646ZtRuneInbY1z9QYrt1Ws8r6Cc8pS0g%2BVi7HmU0b%2F0lxgkP9csOvk9S01pusHVMJOZ9GfMZblZ01U9NjD46R2N%2BI21guim1Lga4TfVKqE6rCLMJvQszv5ZKdFgjngR98gxiClp9R3ZxzJ7cTLJufuir4JGnzKZ9RwOCL1%2BOaFy8qFEGwEVNGkuMY4Hj4zSR%2BL9a5fatMYEWNXvk4muhbgckHixSZiqvSnL6pyniu98SRFEpigMIkWgSJ%2FTfNvCg%3D%3D'\n",
    "cookies = {\n",
    "    'espn_s2': espn_s2,\n",
    "    'SWID': swid\n",
    "}\n",
    "ENDPOINT = \"https://fantasy.espn.com/apis/v3/games/FFL/seasons/\" + str(year) + \"/segments/0/leagues/\" + str(league_id)\n",
    "params = ''\n",
    "\n",
    "# test request\n",
    "r = requests.get(ENDPOINT, params=params, cookies=cookies)\n",
    "status = r.status_code\n",
    "checkRequestStatus(status)\n",
    "data = r.json()\n",
    "print(data)"
   ]
  },
  {
   "cell_type": "code",
   "execution_count": 15,
   "metadata": {},
   "outputs": [
    {
     "output_type": "stream",
     "name": "stdout",
     "text": [
      "[{'defaultPositionId': 2, 'droppable': True, 'eligibleSlots': [2, 3, 23, 7, 20, 21], 'firstName': 'Ameer', 'fullName': 'Ameer Abdullah', 'id': 2576336, 'lastName': 'Abdullah', 'ownership': {'percentOwned': 0.07516603567826986}, 'proTeamId': 16, 'universeId': 2}, {'defaultPositionId': 13, 'droppable': True, 'eligibleSlots': [13, 14, 15, 20, 21], 'firstName': 'Johnathan', 'fullName': 'Johnathan Abram', 'id': 3728305, 'lastName': 'Abram', 'ownership': {'percentOwned': 11.163093687078053}, 'proTeamId': 13, 'universeId': 1}, {'defaultPositionId': 12, 'droppable': True, 'eligibleSlots': [12, 14, 15, 20, 21], 'firstName': 'Delrick', 'fullName': 'Delrick Abrams', 'id': 4360643, 'lastName': 'Abrams', 'ownership': {'percentOwned': 0.0}, 'proTeamId': 1, 'universeId': 2}, {'defaultPositionId': 11, 'droppable': True, 'eligibleSlots': [10, 15, 20, 21], 'firstName': 'Sam', 'fullName': 'Sam Acho', 'id': 14152, 'lastName': 'Acho', 'ownership': {'percentOwned': 0.008595003438001375}, 'proTeamId': 0, 'universeId': 0}, {'defaultPositionId': 13, 'droppable': True, 'eligibleSlots': [13, 14, 15, 20, 21], 'firstName': 'Andrew', 'fullName': 'Andrew Adams', 'id': 2576599, 'lastName': 'Adams', 'ownership': {'percentOwned': 0.014806040864672786}, 'proTeamId': 27, 'universeId': 2}, {'defaultPositionId': 3, 'droppable': False, 'eligibleSlots': [3, 4, 5, 23, 7, 20, 21], 'firstName': 'Davante', 'fullName': 'Davante Adams', 'id': 16800, 'lastName': 'Adams', 'ownership': {'percentOwned': 99.9577449109027}, 'proTeamId': 9, 'universeId': 2}, {'defaultPositionId': 13, 'droppable': True, 'eligibleSlots': [13, 14, 15, 20, 21], 'firstName': 'Jamal', 'fullName': 'Jamal Adams', 'id': 3115373, 'lastName': 'Adams', 'ownership': {'percentOwned': 58.25067361501791}, 'proTeamId': 26, 'universeId': 2}, {'defaultPositionId': 2, 'droppable': True, 'eligibleSlots': [2, 3, 23, 7, 20, 21], 'firstName': 'Josh', 'fullName': 'Josh Adams', 'id': 3932420, 'lastName': 'Adams', 'ownership': {'percentOwned': 0.05021985406988036}, 'proTeamId': 20, 'universeId': 1}, {'defaultPositionId': 11, 'droppable': True, 'eligibleSlots': [10, 15, 20, 21], 'firstName': 'Matthew', 'fullName': 'Matthew Adams', 'id': 3126179, 'lastName': 'Adams', 'ownership': {'percentOwned': 0.0028645907932051905}, 'proTeamId': 11, 'universeId': 1}, {'defaultPositionId': 13, 'droppable': True, 'eligibleSlots': [13, 14, 15, 20, 21], 'firstName': 'Mike', 'fullName': 'Mike Adams', 'id': 5893, 'lastName': 'Adams', 'ownership': {'percentOwned': 0.017766196849461093}, 'proTeamId': 34, 'universeId': 1}, {'defaultPositionId': 9, 'droppable': True, 'eligibleSlots': [8, 11, 15, 20, 21], 'firstName': 'Montravius', 'fullName': 'Montravius Adams', 'id': 3051894, 'lastName': 'Adams', 'ownership': {'percentOwned': 0.024949321690316544}, 'proTeamId': 9, 'universeId': 2}, {'defaultPositionId': 3, 'droppable': True, 'eligibleSlots': [3, 4, 5, 23, 7, 20, 21], 'firstName': 'Rodney', 'fullName': 'Rodney Adams', 'id': 3059918, 'lastName': 'Adams', 'ownership': {'percentOwned': 0.0033317135246441164}, 'proTeamId': 0, 'universeId': 0}, {'defaultPositionId': 11, 'droppable': True, 'eligibleSlots': [10, 15, 20, 21], 'firstName': 'Tyrell', 'fullName': 'Tyrell Adams', 'id': 3895228, 'lastName': 'Adams', 'ownership': {'percentOwned': 67.68362552996447}, 'proTeamId': 34, 'universeId': 1}, {'defaultPositionId': 13, 'droppable': True, 'eligibleSlots': [13, 14, 15, 20, 21], 'firstName': 'Jahleel', 'fullName': 'Jahleel Addae', 'id': 16039, 'lastName': 'Addae', 'ownership': {'percentOwned': 0.023688262465948122}, 'proTeamId': 24, 'universeId': 1}, {'defaultPositionId': 13, 'droppable': True, 'eligibleSlots': [13, 14, 15, 20, 21], 'firstName': 'Nasir', 'fullName': 'Nasir Adderley', 'id': 3912028, 'lastName': 'Adderley', 'ownership': {'percentOwned': 0.5122586758261282}, 'proTeamId': 24, 'universeId': 1}, {'defaultPositionId': 10, 'droppable': True, 'eligibleSlots': [9, 11, 15, 20, 21, 24], 'firstName': 'Mario', 'fullName': 'Mario Addison', 'id': 14320, 'lastName': 'Addison', 'ownership': {'percentOwned': 0.8903278025091057}, 'proTeamId': 2, 'universeId': 1}, {'defaultPositionId': 3, 'droppable': True, 'eligibleSlots': [3, 4, 5, 23, 7, 20, 21], 'firstName': 'Quincy', 'fullName': 'Quincy Adeboyejo', 'id': 3051869, 'lastName': 'Adeboyejo', 'ownership': {'percentOwned': 0.021290462035530693}, 'proTeamId': 17, 'universeId': 1}, {'defaultPositionId': 10, 'droppable': True, 'eligibleSlots': [9, 11, 15, 20, 21, 24], 'firstName': 'Olasunkanmi', 'fullName': 'Olasunkanmi Adeniyi', 'id': 3126081, 'lastName': 'Adeniyi', 'ownership': {'percentOwned': 0.04047412546978896}, 'proTeamId': 23, 'universeId': 1}, {'defaultPositionId': 10, 'droppable': True, 'eligibleSlots': [9, 11, 15, 20, 21, 24], 'firstName': 'Aaron', 'fullName': 'Aaron Adeoye', 'id': 3910148, 'lastName': 'Adeoye', 'ownership': {'percentOwned': 0.0}, 'proTeamId': 33, 'universeId': 1}, {'defaultPositionId': 3, 'droppable': True, 'eligibleSlots': [3, 4, 5, 23, 7, 20, 21], 'firstName': 'Nelson', 'fullName': 'Nelson Agholor', 'id': 2971618, 'lastName': 'Agholor', 'ownership': {'percentOwned': 29.196573751215855}, 'proTeamId': 13, 'universeId': 1}, {'defaultPositionId': 9, 'droppable': True, 'eligibleSlots': [25, 8, 11, 15, 20, 21], 'firstName': 'McTelvin', 'fullName': 'McTelvin Agim', 'id': 4035566, 'lastName': 'Agim', 'ownership': {'percentOwned': 0.02494620973525835}, 'proTeamId': 7, 'universeId': 1}, {'defaultPositionId': 3, 'droppable': True, 'eligibleSlots': [3, 4, 5, 23, 7, 20, 21], 'firstName': 'Jamal', 'fullName': 'Jamal Agnew', 'id': 3061612, 'lastName': 'Agnew', 'ownership': {'percentOwned': 0.13277277329333356}, 'proTeamId': 8, 'universeId': 2}, {'defaultPositionId': 2, 'droppable': True, 'eligibleSlots': [25, 2, 3, 23, 7, 20, 21], 'firstName': 'Salvon', 'fullName': 'Salvon Ahmed', 'id': 4243315, 'lastName': 'Ahmed', 'ownership': {'percentOwned': 28.04845742666621}, 'proTeamId': 15, 'universeId': 1}, {'defaultPositionId': 3, 'droppable': True, 'eligibleSlots': [3, 4, 5, 23, 7, 20, 21], 'firstName': 'Kamar', 'fullName': 'Kamar Aiken', 'id': 14583, 'lastName': 'Aiken', 'ownership': {'percentOwned': 0.002437910483177605}, 'proTeamId': 0, 'universeId': 0}, {'defaultPositionId': 13, 'droppable': True, 'eligibleSlots': [13, 14, 15, 20, 21], 'firstName': 'Walt', 'fullName': 'Walt Aikens', 'id': 16819, 'lastName': 'Aikens', 'ownership': {'percentOwned': 0.0}, 'proTeamId': 0, 'universeId': 0}, {'defaultPositionId': 3, 'droppable': True, 'eligibleSlots': [25, 3, 4, 5, 23, 7, 20, 21], 'firstName': 'Brandon', 'fullName': 'Brandon Aiyuk', 'id': 4360438, 'lastName': 'Aiyuk', 'ownership': {'percentOwned': 63.5839582908411}, 'proTeamId': 25, 'universeId': 2}, {'defaultPositionId': 2, 'droppable': True, 'eligibleSlots': [2, 3, 23, 7, 20, 21], 'firstName': 'Jay', 'fullName': 'Jay Ajayi', 'id': 2573300, 'lastName': 'Ajayi', 'ownership': {'percentOwned': 0.038193744677254726}, 'proTeamId': 0, 'universeId': 0}, {'defaultPositionId': 2, 'droppable': True, 'eligibleSlots': [25, 2, 3, 23, 7, 20, 21], 'firstName': 'Cam', 'fullName': 'Cam Akers', 'id': 4240021, 'lastName': 'Akers', 'ownership': {'percentOwned': 35.750295788748325}, 'proTeamId': 14, 'universeId': 2}, {'defaultPositionId': 9, 'droppable': True, 'eligibleSlots': [8, 11, 15, 20, 21], 'firstName': 'Freedom', 'fullName': 'Freedom Akinmoladun', 'id': 3116082, 'lastName': 'Akinmoladun', 'ownership': {'percentOwned': 0.006236552433814588}, 'proTeamId': 4, 'universeId': 1}, {'defaultPositionId': 4, 'droppable': True, 'eligibleSlots': [5, 6, 23, 7, 20, 21], 'firstName': 'Jordan', 'fullName': 'Jordan Akins', 'id': 3128452, 'lastName': 'Akins', 'ownership': {'percentOwned': 3.9755980421873995}, 'proTeamId': 34, 'universeId': 1}, {'defaultPositionId': 11, 'droppable': True, 'eligibleSlots': [10, 15, 20, 21], 'firstName': 'Azeez', 'fullName': 'Azeez Al-Shaair', 'id': 3919117, 'lastName': 'Al-Shaair', 'ownership': {'percentOwned': 0.140377012547986}, 'proTeamId': 25, 'universeId': 2}, {'defaultPositionId': 11, 'droppable': True, 'eligibleSlots': [10, 15, 20, 21], 'firstName': 'Otaro', 'fullName': 'Otaro Alaka', 'id': 3122141, 'lastName': 'Alaka', 'ownership': {'percentOwned': 0.0028646728543600323}, 'proTeamId': 33, 'universeId': 1}, {'defaultPositionId': 12, 'droppable': True, 'eligibleSlots': [12, 14, 15, 20, 21], 'firstName': 'Adonis', 'fullName': 'Adonis Alexander', 'id': 3871875, 'lastName': 'Alexander', 'ownership': {'percentOwned': 0.0029560436312039964}, 'proTeamId': 0, 'universeId': 0}, {'defaultPositionId': 11, 'droppable': True, 'eligibleSlots': [10, 15, 20, 21], 'firstName': 'D.J.', 'fullName': 'D.J. Alexander', 'id': 3001171, 'lastName': 'Alexander', 'ownership': {'percentOwned': 0.0028650832306678507}, 'proTeamId': 0, 'universeId': 0}, {'defaultPositionId': 12, 'droppable': True, 'eligibleSlots': [12, 14, 15, 20, 21], 'firstName': 'Jaire', 'fullName': 'Jaire Alexander', 'id': 3895429, 'lastName': 'Alexander', 'ownership': {'percentOwned': 6.955365060597103}, 'proTeamId': 9, 'universeId': 2}, {'defaultPositionId': 11, 'droppable': True, 'eligibleSlots': [10, 15, 20, 21], 'firstName': 'Kwon', 'fullName': 'Kwon Alexander', 'id': 2976541, 'lastName': 'Alexander', 'ownership': {'percentOwned': 5.6181062884973505}, 'proTeamId': 18, 'universeId': 2}, {'defaultPositionId': 11, 'droppable': True, 'eligibleSlots': [10, 15, 20, 21], 'firstName': 'Lorenzo', 'fullName': 'Lorenzo Alexander', 'id': 9424, 'lastName': 'Alexander', 'ownership': {'percentOwned': 0.03723648029330889}, 'proTeamId': 2, 'universeId': 1}, {'defaultPositionId': 12, 'droppable': True, 'eligibleSlots': [12, 14, 15, 20, 21], 'firstName': 'Mackensie', 'fullName': 'Mackensie Alexander', 'id': 3045120, 'lastName': 'Alexander', 'ownership': {'percentOwned': 0.10344318013890941}, 'proTeamId': 4, 'universeId': 1}, {'defaultPositionId': 11, 'droppable': True, 'eligibleSlots': [10, 15, 20, 21], 'firstName': 'Maurice', 'fullName': 'Maurice Alexander', 'id': 16937, 'lastName': 'Alexander', 'ownership': {'percentOwned': 0.0028650832306678507}, 'proTeamId': 0, 'universeId': 0}, {'defaultPositionId': 12, 'droppable': True, 'eligibleSlots': [12, 14, 15, 20, 21], 'firstName': 'Robert', 'fullName': 'Robert Alford', 'id': 15817, 'lastName': 'Alford', 'ownership': {'percentOwned': 0.026603606266627253}, 'proTeamId': 22, 'universeId': 2}, {'defaultPositionId': 4, 'droppable': True, 'eligibleSlots': [5, 6, 23, 7, 20, 21], 'firstName': 'Mo', 'fullName': 'Mo Alie-Cox', 'id': 2998565, 'lastName': 'Alie-Cox', 'ownership': {'percentOwned': 1.8825621243063102}, 'proTeamId': 11, 'universeId': 1}, {'defaultPositionId': 9, 'droppable': True, 'eligibleSlots': [8, 11, 15, 20, 21], 'firstName': 'Beau', 'fullName': 'Beau Allen', 'id': 16912, 'lastName': 'Allen', 'ownership': {'percentOwned': 0.009354245268310935}, 'proTeamId': 17, 'universeId': 1}, {'defaultPositionId': 1, 'droppable': True, 'eligibleSlots': [0, 7, 20, 21], 'firstName': 'Brandon', 'fullName': 'Brandon Allen', 'id': 2574511, 'lastName': 'Allen', 'ownership': {'percentOwned': 0.9347532598897939}, 'proTeamId': 4, 'universeId': 1}, {'defaultPositionId': 12, 'droppable': True, 'eligibleSlots': [12, 14, 15, 20, 21], 'firstName': 'Brian', 'fullName': 'Brian Allen', 'id': 2971632, 'lastName': 'Allen', 'ownership': {'percentOwned': 0.0}, 'proTeamId': 0, 'universeId': 0}, {'defaultPositionId': 11, 'droppable': True, 'eligibleSlots': [10, 15, 20, 21], 'firstName': 'Chase', 'fullName': 'Chase Allen', 'id': 2975680, 'lastName': 'Allen', 'ownership': {'percentOwned': 0.008595249692003553}, 'proTeamId': 0, 'universeId': 0}, {'defaultPositionId': 10, 'droppable': True, 'eligibleSlots': [9, 10, 11, 15, 20, 21, 24], 'firstName': 'Dakota', 'fullName': 'Dakota Allen', 'id': 3139453, 'lastName': 'Allen', 'ownership': {'percentOwned': 0.6249302533199419}, 'proTeamId': 30, 'universeId': 1}, {'defaultPositionId': 4, 'droppable': True, 'eligibleSlots': [5, 6, 23, 7, 20, 21], 'firstName': 'Dwayne', 'fullName': 'Dwayne Allen', 'id': 14901, 'lastName': 'Allen', 'ownership': {'percentOwned': 0.005932451321392582}, 'proTeamId': 0, 'universeId': 0}, {'defaultPositionId': 2, 'droppable': True, 'eligibleSlots': [2, 3, 23, 7, 20, 21], 'firstName': 'Javorius', 'fullName': 'Javorius Allen', 'id': 2577253, 'lastName': 'Allen', 'ownership': {'percentOwned': 0.008045065368187698}, 'proTeamId': 0, 'universeId': 0}, {'defaultPositionId': 9, 'droppable': True, 'eligibleSlots': [8, 11, 15, 20, 21], 'firstName': 'Jonathan', 'fullName': 'Jonathan Allen', 'id': 3054840, 'lastName': 'Allen', 'ownership': {'percentOwned': 17.90425697801341}, 'proTeamId': 28, 'universeId': 2}, {'defaultPositionId': 10, 'droppable': True, 'eligibleSlots': [9, 11, 15, 20, 21, 24], 'firstName': 'Josh', 'fullName': 'Josh Allen', 'id': 3915239, 'lastName': 'Allen', 'ownership': {'percentOwned': 3.5962072155411655}, 'proTeamId': 30, 'universeId': 1}]\n"
     ]
    }
   ],
   "source": [
    "# fetch players, get general data about players, don't really remember what's in here\n",
    "params = {\n",
    "    'scoringPeriodId': 0,\n",
    "    'view': 'players_wl',\n",
    "}\n",
    "endpoint = 'https://fantasy.espn.com/apis/v3/games/ffl/seasons/' + str(year) + '/players'\n",
    "r = requests.get(endpoint, params=params, cookies=cookies)\n",
    "status = r.status_code\n",
    "checkRequestStatus(status)\n",
    "data = r.json()\n",
    "print(data)"
   ]
  },
  {
   "cell_type": "code",
   "execution_count": 13,
   "metadata": {},
   "outputs": [
    {
     "output_type": "stream",
     "name": "stdout",
     "text": [
      "\nComplete.\n"
     ]
    }
   ],
   "source": [
    "import numpy as np\n",
    "\n",
    "# fetch players, get scoring data\n",
    "params = {\n",
    "    'scoringPeriodId': 1\n",
    "}\n",
    "endpoint = 'https://fantasy.espn.com/apis/v3/games/ffl/seasons/' + str(year) + '/segments/0/leagues/' + str(league_id) + '?view=mMatchup&view=mMatchupScore'\n",
    "r = requests.get(endpoint, params=params, cookies=cookies)\n",
    "status = r.status_code\n",
    "checkRequestStatus(status)\n",
    "d = r.json()\n",
    "\n",
    "# get player scoring data for all weeks\n",
    "import pandas as pd\n",
    "\n",
    "slotcodes = {\n",
    "    0 : 'QB', 2 : 'RB', 4 : 'WR',\n",
    "    6 : 'TE', 16: 'Def', 17: 'K',\n",
    "    20: 'Bench', 21: 'IR', 23: 'Flex'\n",
    "}\n",
    "\n",
    "# holder variable\n",
    "data = []\n",
    "\n",
    "# iterate teams\n",
    "for tm in d['teams']:\n",
    "    tmid = tm['id']\n",
    "\n",
    "    # iterate players on teams\n",
    "    for p in tm['roster']['entries']:\n",
    "        name = p['playerPoolEntry']['player']['fullName']\n",
    "        slot = p['lineupSlotId']\n",
    "        pos  = slotcodes[slot]\n",
    "\n",
    "        # injured status (need try/exc bc of D/ST)\n",
    "        inj = 'NA'\n",
    "        try:\n",
    "            inj = p['playerPoolEntry']['player']['injuryStatus']\n",
    "        except:\n",
    "            pass\n",
    "\n",
    "        # grab projected/actual points\n",
    "        proj, act = None, None\n",
    "        for stat in p['playerPoolEntry']['player']['stats']:\n",
    "            if stat['scoringPeriodId'] != week:\n",
    "                continue\n",
    "            if stat['statSourceId'] == 0:\n",
    "                act = stat['appliedTotal']\n",
    "            elif stat['statSourceId'] == 1:\n",
    "                proj = stat['appliedTotal']\n",
    "\n",
    "        data.append([\n",
    "            week, tmid, name, slot, pos, inj, proj, act\n",
    "        ])\n",
    "print('\\nComplete.')\n",
    "\n",
    "data = pd.DataFrame(data, \n",
    "                columns=['Week', 'Team', 'Player', 'Slot', \n",
    "                             'Pos', 'Status', 'Proj', 'Actual'])\n",
    "\n"
   ]
  },
  {
   "cell_type": "code",
   "execution_count": 14,
   "metadata": {},
   "outputs": [
    {
     "output_type": "execute_result",
     "data": {
      "text/plain": [
       "     Week  Team                 Player  Slot    Pos        Status       Proj  \\\n",
       "0       1     1  Clyde Edwards-Helaire     2     RB  QUESTIONABLE  15.254842   \n",
       "1       1     1            Aaron Jones     2     RB        ACTIVE  15.269672   \n",
       "2       1     1               DJ Moore     4     WR           OUT  15.028489   \n",
       "3       1     1            Cooper Kupp     4     WR        ACTIVE  14.116474   \n",
       "4       1     1             A.J. Brown     4     WR        ACTIVE  13.662708   \n",
       "..    ...   ...                    ...   ...    ...           ...        ...   \n",
       "145     1    10             Bills D/ST    16    Def            NA   9.390461   \n",
       "146     1    10              Zack Moss    23   Flex        ACTIVE   9.853133   \n",
       "147     1    10       Breshad Perriman    20  Bench        ACTIVE   8.436784   \n",
       "148     1    10           Robbie Gould    17      K        ACTIVE   7.922809   \n",
       "149     1    10            Jonnu Smith    20  Bench           OUT   6.970552   \n",
       "\n",
       "     Actual  \n",
       "0      19.8  \n",
       "1      17.6  \n",
       "2       9.4  \n",
       "3       8.0  \n",
       "4       8.9  \n",
       "..      ...  \n",
       "145    11.0  \n",
       "146    11.7  \n",
       "147     4.7  \n",
       "148    10.0  \n",
       "149    13.6  \n",
       "\n",
       "[150 rows x 8 columns]"
      ],
      "text/html": "<div>\n<style scoped>\n    .dataframe tbody tr th:only-of-type {\n        vertical-align: middle;\n    }\n\n    .dataframe tbody tr th {\n        vertical-align: top;\n    }\n\n    .dataframe thead th {\n        text-align: right;\n    }\n</style>\n<table border=\"1\" class=\"dataframe\">\n  <thead>\n    <tr style=\"text-align: right;\">\n      <th></th>\n      <th>Week</th>\n      <th>Team</th>\n      <th>Player</th>\n      <th>Slot</th>\n      <th>Pos</th>\n      <th>Status</th>\n      <th>Proj</th>\n      <th>Actual</th>\n    </tr>\n  </thead>\n  <tbody>\n    <tr>\n      <th>0</th>\n      <td>1</td>\n      <td>1</td>\n      <td>Clyde Edwards-Helaire</td>\n      <td>2</td>\n      <td>RB</td>\n      <td>QUESTIONABLE</td>\n      <td>15.254842</td>\n      <td>19.8</td>\n    </tr>\n    <tr>\n      <th>1</th>\n      <td>1</td>\n      <td>1</td>\n      <td>Aaron Jones</td>\n      <td>2</td>\n      <td>RB</td>\n      <td>ACTIVE</td>\n      <td>15.269672</td>\n      <td>17.6</td>\n    </tr>\n    <tr>\n      <th>2</th>\n      <td>1</td>\n      <td>1</td>\n      <td>DJ Moore</td>\n      <td>4</td>\n      <td>WR</td>\n      <td>OUT</td>\n      <td>15.028489</td>\n      <td>9.4</td>\n    </tr>\n    <tr>\n      <th>3</th>\n      <td>1</td>\n      <td>1</td>\n      <td>Cooper Kupp</td>\n      <td>4</td>\n      <td>WR</td>\n      <td>ACTIVE</td>\n      <td>14.116474</td>\n      <td>8.0</td>\n    </tr>\n    <tr>\n      <th>4</th>\n      <td>1</td>\n      <td>1</td>\n      <td>A.J. Brown</td>\n      <td>4</td>\n      <td>WR</td>\n      <td>ACTIVE</td>\n      <td>13.662708</td>\n      <td>8.9</td>\n    </tr>\n    <tr>\n      <th>...</th>\n      <td>...</td>\n      <td>...</td>\n      <td>...</td>\n      <td>...</td>\n      <td>...</td>\n      <td>...</td>\n      <td>...</td>\n      <td>...</td>\n    </tr>\n    <tr>\n      <th>145</th>\n      <td>1</td>\n      <td>10</td>\n      <td>Bills D/ST</td>\n      <td>16</td>\n      <td>Def</td>\n      <td>NA</td>\n      <td>9.390461</td>\n      <td>11.0</td>\n    </tr>\n    <tr>\n      <th>146</th>\n      <td>1</td>\n      <td>10</td>\n      <td>Zack Moss</td>\n      <td>23</td>\n      <td>Flex</td>\n      <td>ACTIVE</td>\n      <td>9.853133</td>\n      <td>11.7</td>\n    </tr>\n    <tr>\n      <th>147</th>\n      <td>1</td>\n      <td>10</td>\n      <td>Breshad Perriman</td>\n      <td>20</td>\n      <td>Bench</td>\n      <td>ACTIVE</td>\n      <td>8.436784</td>\n      <td>4.7</td>\n    </tr>\n    <tr>\n      <th>148</th>\n      <td>1</td>\n      <td>10</td>\n      <td>Robbie Gould</td>\n      <td>17</td>\n      <td>K</td>\n      <td>ACTIVE</td>\n      <td>7.922809</td>\n      <td>10.0</td>\n    </tr>\n    <tr>\n      <th>149</th>\n      <td>1</td>\n      <td>10</td>\n      <td>Jonnu Smith</td>\n      <td>20</td>\n      <td>Bench</td>\n      <td>OUT</td>\n      <td>6.970552</td>\n      <td>13.6</td>\n    </tr>\n  </tbody>\n</table>\n<p>150 rows × 8 columns</p>\n</div>"
     },
     "metadata": {},
     "execution_count": 14
    }
   ],
   "source": [
    "data"
   ]
  },
  {
   "cell_type": "code",
   "execution_count": null,
   "metadata": {},
   "outputs": [],
   "source": []
  }
 ]
}